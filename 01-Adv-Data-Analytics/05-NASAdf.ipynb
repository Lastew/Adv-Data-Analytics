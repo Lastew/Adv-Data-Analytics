{
 "cells": [
  {
   "cell_type": "markdown",
   "metadata": {},
   "source": [
    "Working with NASA API"
   ]
  },
  {
   "cell_type": "code",
   "execution_count": null,
   "metadata": {},
   "outputs": [],
   "source": [
    "import requests\n",
    "import json"
   ]
  },
  {
   "cell_type": "code",
   "execution_count": null,
   "metadata": {},
   "outputs": [],
   "source": [
    "url = r\"https://data.nasa.gov/resource/y77d-th95.json\""
   ]
  },
  {
   "cell_type": "code",
   "execution_count": null,
   "metadata": {},
   "outputs": [],
   "source": [
    "response = requests.get(url)\n",
    "response"
   ]
  },
  {
   "cell_type": "code",
   "execution_count": null,
   "metadata": {},
   "outputs": [],
   "source": [
    "str_nasa = response.text\n",
    "str_nasa"
   ]
  },
  {
   "cell_type": "code",
   "execution_count": null,
   "metadata": {},
   "outputs": [],
   "source": [
    "NASAdata = json.loads(str_nasa)\n",
    "NASAdata"
   ]
  },
  {
   "cell_type": "code",
   "execution_count": null,
   "metadata": {},
   "outputs": [],
   "source": [
    "# check the data type\n",
    "type(NASAdata)"
   ]
  },
  {
   "cell_type": "code",
   "execution_count": null,
   "metadata": {},
   "outputs": [],
   "source": [
    "# check list length\n",
    "len(NASAdata)"
   ]
  },
  {
   "cell_type": "code",
   "execution_count": null,
   "metadata": {},
   "outputs": [],
   "source": [
    "# create an empty list \n",
    "\n",
    "ID = []\n",
    "Year = []\n",
    "Fall = []\n",
    "Name = []\n",
    "Name_Type = []\n",
    "Mass = []\n",
    "Latitude = []\n",
    "Longitude = []\n",
    "Type = []\n"
   ]
  },
  {
   "cell_type": "code",
   "execution_count": null,
   "metadata": {},
   "outputs": [],
   "source": [
    "# creat a for loop and append values accordingly\n",
    "\n",
    "for lists in range(len(NASAdata)):\n",
    "    # id data list\n",
    "    try:\n",
    "        Id = NASAdata[lists]['id']\n",
    "    except:\n",
    "        Id = None\n",
    "    ID.append(Id)\n",
    "    # year data list\n",
    "    try:\n",
    "        yr = NASAdata[lists]['year']\n",
    "    except:\n",
    "        yr = None\n",
    "    Year.append(yr)\n",
    "    # fall data list\n",
    "    try:\n",
    "        fa = NASAdata[lists]['fall']\n",
    "    except:\n",
    "        fa = None\n",
    "    Fall.append(fa)\n",
    "    # name data list\n",
    "    try:\n",
    "        na = NASAdata[lists]['name']\n",
    "    except:\n",
    "        na = None\n",
    "    Name.append(na)\n",
    "    # type data list\n",
    "    try:\n",
    "        ty = NASAdata[lists]['nametype']\n",
    "    except:\n",
    "        ty = None\n",
    "    Name_Type.append(ty)\n",
    "    # mass data list\n",
    "    try:\n",
    "        ma = NASAdata[lists]['mass']\n",
    "    except:\n",
    "        ma = None\n",
    "    Mass.append(ma)\n",
    "    # latitutde data list\n",
    "    try:\n",
    "        la = NASAdata[lists]['reclat']\n",
    "    except:\n",
    "        la = None\n",
    "    Latitude.append(la)\n",
    "    # longtiude data list \n",
    "    try:\n",
    "        lo = NASAdata[lists]['reclong']\n",
    "    except:\n",
    "        lo = None\n",
    "    Longitude.append(lo)\n",
    "    # class data list \n",
    "    try:\n",
    "        cl = NASAdata[lists]['recclass']\n",
    "    except:\n",
    "        cl = None\n",
    "    Type.append(cl)"
   ]
  },
  {
   "cell_type": "code",
   "execution_count": null,
   "metadata": {},
   "outputs": [],
   "source": [
    "# check the rows are equal\n",
    "\n",
    "print(len(ID))\n",
    "print(len(Year))\n",
    "print(len(Fall))\n",
    "print(len(Name))\n",
    "print(len(Name_Type))\n",
    "print(len(Mass))\n",
    "print(len(Latitude))\n",
    "print(len(Longitude))\n",
    "print(len(Type))"
   ]
  },
  {
   "cell_type": "code",
   "execution_count": null,
   "metadata": {},
   "outputs": [],
   "source": [
    "# zip all lists togather and made list of lists\n",
    "NASAlist = list(zip(ID,Year,Fall,Name,Name_Type,Mass,Latitude,Longitude,Type))\n",
    "\n",
    "colnames = ['ID','Year','Fall','Name','Name_Type','Mass','Latitude','Longitude','Type']"
   ]
  },
  {
   "cell_type": "code",
   "execution_count": null,
   "metadata": {},
   "outputs": [],
   "source": [
    "# make the list into a dataframe\n",
    "import pandas as pd \n",
    "\n",
    "df = pd.DataFrame(NASAlist, columns=colnames)\n",
    "\n",
    "df.head()"
   ]
  },
  {
   "cell_type": "code",
   "execution_count": null,
   "metadata": {},
   "outputs": [],
   "source": []
  }
 ],
 "metadata": {
  "kernelspec": {
   "display_name": "Python 3",
   "language": "python",
   "name": "python3"
  },
  "language_info": {
   "codemirror_mode": {
    "name": "ipython",
    "version": 3
   },
   "file_extension": ".py",
   "mimetype": "text/x-python",
   "name": "python",
   "nbconvert_exporter": "python",
   "pygments_lexer": "ipython3",
   "version": "3.7.0"
  }
 },
 "nbformat": 4,
 "nbformat_minor": 2
}
