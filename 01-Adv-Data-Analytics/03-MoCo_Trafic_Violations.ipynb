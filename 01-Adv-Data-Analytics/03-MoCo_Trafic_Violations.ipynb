{
 "cells": [
  {
   "cell_type": "markdown",
   "metadata": {},
   "source": [
    "Montgomery County Traffic Violations - JSON file"
   ]
  },
  {
   "cell_type": "code",
   "execution_count": null,
   "metadata": {},
   "outputs": [],
   "source": [
    "import pandas as pd \n",
    "import json"
   ]
  },
  {
   "cell_type": "code",
   "execution_count": null,
   "metadata": {},
   "outputs": [],
   "source": [
    "file_path = \"MoCo_Traffic_Violations.json\"\n",
    "type(file_path)\n"
   ]
  },
  {
   "cell_type": "code",
   "execution_count": null,
   "metadata": {
    "scrolled": true
   },
   "outputs": [],
   "source": [
    "# read the json file \n",
    "with open(\"MoCo_Traffic_Violations.json\", \"r\") as file:\n",
    "    MoCo_traffic = json.load(file)  \n"
   ]
  },
  {
   "cell_type": "code",
   "execution_count": null,
   "metadata": {},
   "outputs": [],
   "source": [
    "type(MoCo_traffic)"
   ]
  },
  {
   "cell_type": "code",
   "execution_count": null,
   "metadata": {},
   "outputs": [],
   "source": [
    "MoCo_traffic"
   ]
  },
  {
   "cell_type": "code",
   "execution_count": null,
   "metadata": {
    "scrolled": true
   },
   "outputs": [],
   "source": [
    "MoCo_traffic.keys()"
   ]
  },
  {
   "cell_type": "code",
   "execution_count": null,
   "metadata": {},
   "outputs": [],
   "source": [
    "MoCo_traffic['data'][50][32]"
   ]
  },
  {
   "cell_type": "code",
   "execution_count": null,
   "metadata": {},
   "outputs": [],
   "source": [
    "MoCo_traffic['data'][50][27]"
   ]
  },
  {
   "cell_type": "code",
   "execution_count": null,
   "metadata": {},
   "outputs": [],
   "source": [
    "len(MoCo_traffic['data'][0])"
   ]
  },
  {
   "cell_type": "code",
   "execution_count": null,
   "metadata": {},
   "outputs": [],
   "source": [
    "MoCo_traffic['data'][0][8]"
   ]
  },
  {
   "cell_type": "code",
   "execution_count": null,
   "metadata": {},
   "outputs": [],
   "source": [
    "# Create lists\n",
    "\n",
    "Date_of_Stop = []\n",
    "Time_of_Stop = []\n",
    "Agency = []\n",
    "Subagency = []\n",
    "Description = []\n",
    "Location = []\n",
    "Latitude = []\n",
    "Longtitude = []\n",
    "Vehicle_Type = []\n",
    "Vehicle_Year = []\n",
    "Vehicle_Make = []\n",
    "Vehicle_Model = []\n",
    "Vehicle_Color = []\n",
    "Violation_Type = []\n",
    "Race = []\n",
    "Gender = []\n",
    "Driver_State = []\n",
    "Driver_License_State = []\n",
    "Arrest_Type = []\n",
    "\n",
    "for line in MoCo_traffic['data']:\n",
    "    Date_of_Stop.append(line[8])\n",
    "    Time_of_Stop.append(line[9])\n",
    "    Agency.append(line[10])\n",
    "    Subagency.append(line[11])\n",
    "    Description.append(line[12])\n",
    "    Location.append(line[13])\n",
    "    Latitude.append(line[14])\n",
    "    Longtitude.append(line[15])\n",
    "    Vehicle_Type.append(line[27])\n",
    "    Vehicle_Year.append(line[28])\n",
    "    Vehicle_Make.append(line[29])\n",
    "    Vehicle_Model.append(line[30])\n",
    "    Vehicle_Color.append(line[31])\n",
    "    Violation_Type.append(line[32])\n",
    "    Race.append(line[36])\n",
    "    Gender.append(line[37])\n",
    "    Driver_State.append(line[39])\n",
    "    Driver_License_State.append(line[40])\n",
    "    Arrest_Type.append(line[41])\n",
    "    "
   ]
  },
  {
   "cell_type": "code",
   "execution_count": null,
   "metadata": {
    "scrolled": false
   },
   "outputs": [],
   "source": [
    "#Vehicle_Type"
   ]
  },
  {
   "cell_type": "code",
   "execution_count": null,
   "metadata": {},
   "outputs": [],
   "source": [
    "# Date_of_Stop"
   ]
  },
  {
   "cell_type": "code",
   "execution_count": null,
   "metadata": {
    "scrolled": true
   },
   "outputs": [],
   "source": [
    "print(len(Date_of_Stop))\n",
    "print(len(Time_of_Stop))\n",
    "print(len(Agency))\n",
    "print(len(Subagency))\n",
    "print(len(Description))\n",
    "print(len(Location))\n",
    "print(len(Latitude))\n",
    "print(len(Longtitude))\n",
    "print(len(Vehicle_Type))\n",
    "print(len(Vehicle_Year))\n",
    "print(len(Vehicle_Make))\n",
    "print(len(Vehicle_Model))\n",
    "print(len(Vehicle_Color))\n",
    "print(len(Violation_Type))\n",
    "print(len(Race))\n",
    "print(len(Gender))\n",
    "print(len(Driver_State))\n",
    "print(len(Driver_License_State))\n",
    "print(len(Arrest_Type))"
   ]
  },
  {
   "cell_type": "code",
   "execution_count": null,
   "metadata": {},
   "outputs": [],
   "source": [
    "# zip lists togather into one list\n",
    "MOCO_DF = list(zip(Date_of_Stop,Time_of_Stop,Agency,Subagency,Description,Location,Latitude,Longtitude,Vehicle_Type,Vehicle_Year,Vehicle_Make,Vehicle_Model,Vehicle_Color,Violation_Type,Race,Gender,Driver_State,Driver_License_State,Arrest_Type))\n",
    "\n",
    "# make list of column names\n",
    "column_names = ['Date of Stop','Time of Stop','Agency','Subagency','Description','Location','Latitude','Longtitude','Vehicle Type','Vehicle Year','Vehicle Make','Vehicle Model','Vehicle Color','Violation Type','Race','Gender','Driver State','Driver License State','Arrest Type']\n"
   ]
  },
  {
   "cell_type": "code",
   "execution_count": null,
   "metadata": {
    "scrolled": false
   },
   "outputs": [],
   "source": [
    "# MOCO_DF"
   ]
  },
  {
   "cell_type": "code",
   "execution_count": null,
   "metadata": {},
   "outputs": [],
   "source": [
    "# make the dataframe \n",
    "df = pd.DataFrame(MOCO_DF, columns=column_names)\n",
    "\n",
    "df.head()"
   ]
  },
  {
   "cell_type": "code",
   "execution_count": null,
   "metadata": {},
   "outputs": [],
   "source": [
    "# use loc method\n",
    "VA_citations = df.loc[df['Driver State'] == 'VA',['Driver State','Driver License State', 'Violation Type','Arrest Type']]\n",
    "VA_citations.head()"
   ]
  },
  {
   "cell_type": "code",
   "execution_count": null,
   "metadata": {},
   "outputs": [],
   "source": [
    "len(VA_citations)"
   ]
  },
  {
   "cell_type": "code",
   "execution_count": null,
   "metadata": {},
   "outputs": [],
   "source": [
    "df['Race'].unique()"
   ]
  },
  {
   "cell_type": "code",
   "execution_count": null,
   "metadata": {},
   "outputs": [],
   "source": [
    "print(len(df.loc[df['Race']=='WHITE']))\n",
    "print(len(df.loc[df['Race']=='BLACK']))\n",
    "print(len(df.loc[df['Race']=='HISPANIC']))\n",
    "print(len(df.loc[df['Race']=='ASIAN']))\n",
    "print(len(df.loc[df['Race']=='OTHER']))\n",
    "print(len(df.loc[df['Race']=='NATIVE AMERICAN']))"
   ]
  },
  {
   "cell_type": "code",
   "execution_count": null,
   "metadata": {},
   "outputs": [],
   "source": [
    "tot = len(df.loc[df['Race']=='WHITE']) + len(df.loc[df['Race']=='BLACK']) + len(df.loc[df['Race']=='HISPANIC']) + len(df.loc[df['Race']=='ASIAN']) + len(df.loc[df['Race']=='OTHER']) + len(df.loc[df['Race']=='NATIVE AMERICAN'])"
   ]
  },
  {
   "cell_type": "code",
   "execution_count": null,
   "metadata": {},
   "outputs": [],
   "source": [
    "tot"
   ]
  },
  {
   "cell_type": "code",
   "execution_count": null,
   "metadata": {},
   "outputs": [],
   "source": []
  }
 ],
 "metadata": {
  "kernelspec": {
   "display_name": "Python 3",
   "language": "python",
   "name": "python3"
  },
  "language_info": {
   "codemirror_mode": {
    "name": "ipython",
    "version": 3
   },
   "file_extension": ".py",
   "mimetype": "text/x-python",
   "name": "python",
   "nbconvert_exporter": "python",
   "pygments_lexer": "ipython3",
   "version": "3.7.0"
  }
 },
 "nbformat": 4,
 "nbformat_minor": 2
}
