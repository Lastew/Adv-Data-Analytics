{
 "cells": [
  {
   "cell_type": "code",
   "execution_count": null,
   "metadata": {},
   "outputs": [],
   "source": [
    "# import urllib library \n",
    "import urllib.request as urlreader"
   ]
  },
  {
   "cell_type": "code",
   "execution_count": null,
   "metadata": {},
   "outputs": [],
   "source": [
    "# specify the url \n",
    "US_pres = \"https://en.wikipedia.org/wiki/List_of_Presidents_of_the_United_States\""
   ]
  },
  {
   "cell_type": "code",
   "execution_count": null,
   "metadata": {},
   "outputs": [],
   "source": [
    "# return the html to a variable called 'US_Pres_List'\n",
    "US_pres_list = urlreader.urlopen(US_pres)"
   ]
  },
  {
   "cell_type": "code",
   "execution_count": null,
   "metadata": {},
   "outputs": [],
   "source": [
    "# import Beautiful soup function to parse the data returned from the website\n",
    "from bs4 import BeautifulSoup"
   ]
  },
  {
   "cell_type": "code",
   "execution_count": null,
   "metadata": {},
   "outputs": [],
   "source": [
    "# parse the html to Beautiful soup format and store it in a varible\n",
    "US_presidents = BeautifulSoup(US_pres_list, 'lxml')"
   ]
  },
  {
   "cell_type": "code",
   "execution_count": null,
   "metadata": {},
   "outputs": [],
   "source": [
    "# print US presidents\n",
    "US_presidents"
   ]
  },
  {
   "cell_type": "code",
   "execution_count": null,
   "metadata": {},
   "outputs": [],
   "source": [
    "# prettify the html view of presidents\n",
    "print(US_presidents.prettify())"
   ]
  },
  {
   "cell_type": "code",
   "execution_count": null,
   "metadata": {},
   "outputs": [],
   "source": [
    "# print the title of the page\n",
    "US_presidents.title"
   ]
  },
  {
   "cell_type": "code",
   "execution_count": null,
   "metadata": {},
   "outputs": [],
   "source": [
    "# find all the ancher tags\n",
    "len(US_presidents.find_all('a'))"
   ]
  },
  {
   "cell_type": "code",
   "execution_count": null,
   "metadata": {},
   "outputs": [],
   "source": [
    "# creat table variable with class 'wikitable'\n",
    "table = US_presidents.find('table', class_=\"wikitable\")\n",
    "table"
   ]
  },
  {
   "cell_type": "code",
   "execution_count": null,
   "metadata": {},
   "outputs": [],
   "source": [
    "# prettify the table\n",
    "table.prettify()"
   ]
  },
  {
   "cell_type": "code",
   "execution_count": null,
   "metadata": {},
   "outputs": [],
   "source": [
    "# look of all table rows and put them in the tr variable\n",
    "tr = table.find_all('tr')\n",
    "start = []\n",
    "end = []\n",
    "name = []\n",
    "pary = []\n",
    "vp = []\n",
    "\n",
    "# create a for loop to get all the table rows and spans\n",
    "for row in tr:\n",
    "    td = row.find_all('td')\n",
    "    span = row.find_all('span')\n",
    "    \n",
    "    if len(td) == 9:\n",
    "        name.append(td[3].find(text=True))\n",
    "        vp.append(td[-1].find(text=True))\n",
    "        pary.append(td[6].find(text=True))\n",
    "        start.append(span[0].find(text=True))\n",
    "        end.append(span[1].find(text=True))\n",
    "        #print('good job')\n",
    "        #A.append(td)\n",
    "    elif len(td) == 8:\n",
    "        name.append(td[3].find(text=True))\n",
    "        vp.append(td[-1].find(text=True))\n",
    "        pary.append(td[6].find(text=True))\n",
    "        start.append(span[0].find(text=True))\n",
    "        end.append(span[1].find(text=True))\n",
    "\n",
    "print(len(start))\n",
    "print(len(end))\n",
    "print(len(name))\n",
    "print(len(pary))\n",
    "print(len(vp))"
   ]
  },
  {
   "cell_type": "code",
   "execution_count": null,
   "metadata": {},
   "outputs": [],
   "source": [
    "# import pandas to create a data frame\n",
    "import pandas as pd\n",
    "\n",
    "df = pd.DataFrame(start, columns=['Start Date'])\n",
    "df['End Date'] = end\n",
    "df['President Name'] = name\n",
    "df['Party'] = pary\n",
    "df['Vice President'] = vp\n",
    "\n",
    "df.head()"
   ]
  },
  {
   "cell_type": "code",
   "execution_count": null,
   "metadata": {},
   "outputs": [],
   "source": [
    "#export our scraped data to a file\n",
    "df.to_csv(\"US_Presidents.csv\")"
   ]
  },
  {
   "cell_type": "code",
   "execution_count": null,
   "metadata": {},
   "outputs": [],
   "source": []
  }
 ],
 "metadata": {
  "kernelspec": {
   "display_name": "Python 3",
   "language": "python",
   "name": "python3"
  },
  "language_info": {
   "codemirror_mode": {
    "name": "ipython",
    "version": 3
   },
   "file_extension": ".py",
   "mimetype": "text/x-python",
   "name": "python",
   "nbconvert_exporter": "python",
   "pygments_lexer": "ipython3",
   "version": "3.7.0"
  }
 },
 "nbformat": 4,
 "nbformat_minor": 2
}
