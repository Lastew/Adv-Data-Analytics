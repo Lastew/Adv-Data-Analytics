{
 "cells": [
  {
   "cell_type": "code",
   "execution_count": null,
   "metadata": {},
   "outputs": [],
   "source": [
    "import pandas as pd \n",
    "from sqlalchemy import create_engine"
   ]
  },
  {
   "cell_type": "code",
   "execution_count": null,
   "metadata": {},
   "outputs": [],
   "source": [
    "# Connect to a database file \n",
    "db_file = r'database.sqlite'\n",
    "engine = create_engine(r\"sqlite:///{}\".format(db_file))"
   ]
  },
  {
   "cell_type": "code",
   "execution_count": null,
   "metadata": {},
   "outputs": [],
   "source": [
    "sql = \"SELECT name FROM sqlite_master WHERE type = 'table';\"\n",
    "\n",
    "table_names = pd.read_sql(sql,engine)\n",
    "table_names"
   ]
  },
  {
   "cell_type": "code",
   "execution_count": null,
   "metadata": {},
   "outputs": [],
   "source": [
    "engine.table_names()"
   ]
  },
  {
   "cell_type": "code",
   "execution_count": null,
   "metadata": {},
   "outputs": [],
   "source": [
    "sql1 = \"SELECT * FROM BoardGames\"\n",
    "bg_df = pd.read_sql(sql1,engine)\n",
    "bg_df"
   ]
  },
  {
   "cell_type": "code",
   "execution_count": null,
   "metadata": {},
   "outputs": [],
   "source": [
    "# printing table metadata\n",
    "from sqlalchemy import Table, MetaData\n",
    "bd_table = Table('BoardGames', MetaData(), autoload=True, autoload_with=engine)\n",
    "bd_table"
   ]
  },
  {
   "cell_type": "code",
   "execution_count": null,
   "metadata": {},
   "outputs": [],
   "source": [
    "bd_head = bd_table.columns.keys()\n",
    "bd_head"
   ]
  },
  {
   "cell_type": "code",
   "execution_count": null,
   "metadata": {},
   "outputs": [],
   "source": [
    "count = 0\n",
    "for i in bd_head:\n",
    "    count = count +1\n",
    "count\n",
    "    "
   ]
  },
  {
   "cell_type": "code",
   "execution_count": null,
   "metadata": {},
   "outputs": [],
   "source": [
    "sql1 = \"SELECT * FROM BoardGames\"\n",
    "bg_df = pd.read_sql(sql1,engine)\n",
    "bg_df.shape"
   ]
  },
  {
   "cell_type": "code",
   "execution_count": null,
   "metadata": {},
   "outputs": [],
   "source": [
    "sql1 = \"SELECT * FROM 'bgg.ldaOut.topics'\"\n",
    "bg_df = pd.read_sql(sql1,engine)\n",
    "bg_df.shape"
   ]
  },
  {
   "cell_type": "code",
   "execution_count": null,
   "metadata": {},
   "outputs": [],
   "source": [
    "sql1 = \"SELECT * FROM 'bgg.ldaOut.top.terms'\"\n",
    "bg_df = pd.read_sql(sql1,engine)\n",
    "bg_df.shape"
   ]
  },
  {
   "cell_type": "code",
   "execution_count": null,
   "metadata": {},
   "outputs": [],
   "source": [
    "sql1 = \"SELECT * FROM 'bgg.ldaOut.top.documents'\"\n",
    "bg_df = pd.read_sql(sql1,engine)\n",
    "bg_df.shape"
   ]
  },
  {
   "cell_type": "code",
   "execution_count": null,
   "metadata": {},
   "outputs": [],
   "source": [
    "sql1 = \"SELECT * FROM 'bgg.topics'\"\n",
    "bg_df = pd.read_sql(sql1,engine)\n",
    "bg_df.shape"
   ]
  },
  {
   "cell_type": "code",
   "execution_count": null,
   "metadata": {},
   "outputs": [],
   "source": []
  },
  {
   "cell_type": "code",
   "execution_count": null,
   "metadata": {},
   "outputs": [],
   "source": []
  }
 ],
 "metadata": {
  "kernelspec": {
   "display_name": "Python 3",
   "language": "python",
   "name": "python3"
  },
  "language_info": {
   "codemirror_mode": {
    "name": "ipython",
    "version": 3
   },
   "file_extension": ".py",
   "mimetype": "text/x-python",
   "name": "python",
   "nbconvert_exporter": "python",
   "pygments_lexer": "ipython3",
   "version": "3.7.0"
  }
 },
 "nbformat": 4,
 "nbformat_minor": 2
}
